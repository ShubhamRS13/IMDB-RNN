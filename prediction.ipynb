{
  "nbformat": 4,
  "nbformat_minor": 0,
  "metadata": {
    "colab": {
      "provenance": [],
      "authorship_tag": "ABX9TyMcB7xhcts17CMRGTkOz/6R",
      "include_colab_link": true
    },
    "kernelspec": {
      "name": "python3",
      "display_name": "Python 3"
    },
    "language_info": {
      "name": "python"
    }
  },
  "cells": [
    {
      "cell_type": "markdown",
      "metadata": {
        "id": "view-in-github",
        "colab_type": "text"
      },
      "source": [
        "<a href=\"https://colab.research.google.com/github/ShubhamRS13/IMDB-RNN/blob/main/prediction.ipynb\" target=\"_parent\"><img src=\"https://colab.research.google.com/assets/colab-badge.svg\" alt=\"Open In Colab\"/></a>"
      ]
    },
    {
      "cell_type": "code",
      "source": [
        "# prompt: import numpy as np imdb sequence and loadmodel form keras\n",
        "\n",
        "import tensorflow as tf\n",
        "from tensorflow import keras\n",
        "from tensorflow.keras.datasets import imdb\n",
        "import numpy as np\n",
        "from tensorflow.keras.preprocessing import sequence\n",
        "from tensorflow.keras.models import load_model"
      ],
      "metadata": {
        "id": "pBgoM_JvJAOW"
      },
      "execution_count": 2,
      "outputs": []
    },
    {
      "cell_type": "code",
      "source": [
        "# prompt: load IMDB word index\n",
        "word_index = imdb.get_word_index()\n",
        "reverse_word_index = {value:key for key, value in word_index.items()}\n"
      ],
      "metadata": {
        "colab": {
          "base_uri": "https://localhost:8080/"
        },
        "id": "dEx4poyROMAM",
        "outputId": "955b4d2c-7d78-4dfd-cab3-ae83cd8ab52c"
      },
      "execution_count": 3,
      "outputs": [
        {
          "output_type": "stream",
          "name": "stdout",
          "text": [
            "Downloading data from https://storage.googleapis.com/tensorflow/tf-keras-datasets/imdb_word_index.json\n",
            "\u001b[1m1641221/1641221\u001b[0m \u001b[32m━━━━━━━━━━━━━━━━━━━━\u001b[0m\u001b[37m\u001b[0m \u001b[1m0s\u001b[0m 0us/step\n"
          ]
        }
      ]
    },
    {
      "cell_type": "code",
      "source": [
        "model = load_model(\"sample_rnn_imdb.h5\")"
      ],
      "metadata": {
        "colab": {
          "base_uri": "https://localhost:8080/"
        },
        "id": "EwgZYTpgO2DJ",
        "outputId": "1c33db71-e10c-472b-d619-2e4f9caf9a47"
      },
      "execution_count": 18,
      "outputs": [
        {
          "output_type": "stream",
          "name": "stderr",
          "text": [
            "WARNING:absl:Compiled the loaded model, but the compiled metrics have yet to be built. `model.compile_metrics` will be empty until you train or evaluate the model.\n"
          ]
        }
      ]
    },
    {
      "cell_type": "code",
      "source": [
        "model.summary()"
      ],
      "metadata": {
        "colab": {
          "base_uri": "https://localhost:8080/",
          "height": 241
        },
        "id": "A-0BPkVVPEZy",
        "outputId": "ce1b4d6f-f2b4-40eb-c570-4cfc536b8d0d"
      },
      "execution_count": 5,
      "outputs": [
        {
          "output_type": "display_data",
          "data": {
            "text/plain": [
              "\u001b[1mModel: \"sequential\"\u001b[0m\n"
            ],
            "text/html": [
              "<pre style=\"white-space:pre;overflow-x:auto;line-height:normal;font-family:Menlo,'DejaVu Sans Mono',consolas,'Courier New',monospace\"><span style=\"font-weight: bold\">Model: \"sequential\"</span>\n",
              "</pre>\n"
            ]
          },
          "metadata": {}
        },
        {
          "output_type": "display_data",
          "data": {
            "text/plain": [
              "┏━━━━━━━━━━━━━━━━━━━━━━━━━━━━━━━━━┳━━━━━━━━━━━━━━━━━━━━━━━━┳━━━━━━━━━━━━━━━┓\n",
              "┃\u001b[1m \u001b[0m\u001b[1mLayer (type)                   \u001b[0m\u001b[1m \u001b[0m┃\u001b[1m \u001b[0m\u001b[1mOutput Shape          \u001b[0m\u001b[1m \u001b[0m┃\u001b[1m \u001b[0m\u001b[1m      Param #\u001b[0m\u001b[1m \u001b[0m┃\n",
              "┡━━━━━━━━━━━━━━━━━━━━━━━━━━━━━━━━━╇━━━━━━━━━━━━━━━━━━━━━━━━╇━━━━━━━━━━━━━━━┩\n",
              "│ embedding (\u001b[38;5;33mEmbedding\u001b[0m)           │ (\u001b[38;5;34m32\u001b[0m, \u001b[38;5;34m500\u001b[0m, \u001b[38;5;34m128\u001b[0m)         │     \u001b[38;5;34m1,280,000\u001b[0m │\n",
              "├─────────────────────────────────┼────────────────────────┼───────────────┤\n",
              "│ simple_rnn (\u001b[38;5;33mSimpleRNN\u001b[0m)          │ (\u001b[38;5;34m32\u001b[0m, \u001b[38;5;34m128\u001b[0m)              │        \u001b[38;5;34m32,896\u001b[0m │\n",
              "├─────────────────────────────────┼────────────────────────┼───────────────┤\n",
              "│ dense (\u001b[38;5;33mDense\u001b[0m)                   │ (\u001b[38;5;34m32\u001b[0m, \u001b[38;5;34m1\u001b[0m)                │           \u001b[38;5;34m129\u001b[0m │\n",
              "└─────────────────────────────────┴────────────────────────┴───────────────┘\n"
            ],
            "text/html": [
              "<pre style=\"white-space:pre;overflow-x:auto;line-height:normal;font-family:Menlo,'DejaVu Sans Mono',consolas,'Courier New',monospace\">┏━━━━━━━━━━━━━━━━━━━━━━━━━━━━━━━━━┳━━━━━━━━━━━━━━━━━━━━━━━━┳━━━━━━━━━━━━━━━┓\n",
              "┃<span style=\"font-weight: bold\"> Layer (type)                    </span>┃<span style=\"font-weight: bold\"> Output Shape           </span>┃<span style=\"font-weight: bold\">       Param # </span>┃\n",
              "┡━━━━━━━━━━━━━━━━━━━━━━━━━━━━━━━━━╇━━━━━━━━━━━━━━━━━━━━━━━━╇━━━━━━━━━━━━━━━┩\n",
              "│ embedding (<span style=\"color: #0087ff; text-decoration-color: #0087ff\">Embedding</span>)           │ (<span style=\"color: #00af00; text-decoration-color: #00af00\">32</span>, <span style=\"color: #00af00; text-decoration-color: #00af00\">500</span>, <span style=\"color: #00af00; text-decoration-color: #00af00\">128</span>)         │     <span style=\"color: #00af00; text-decoration-color: #00af00\">1,280,000</span> │\n",
              "├─────────────────────────────────┼────────────────────────┼───────────────┤\n",
              "│ simple_rnn (<span style=\"color: #0087ff; text-decoration-color: #0087ff\">SimpleRNN</span>)          │ (<span style=\"color: #00af00; text-decoration-color: #00af00\">32</span>, <span style=\"color: #00af00; text-decoration-color: #00af00\">128</span>)              │        <span style=\"color: #00af00; text-decoration-color: #00af00\">32,896</span> │\n",
              "├─────────────────────────────────┼────────────────────────┼───────────────┤\n",
              "│ dense (<span style=\"color: #0087ff; text-decoration-color: #0087ff\">Dense</span>)                   │ (<span style=\"color: #00af00; text-decoration-color: #00af00\">32</span>, <span style=\"color: #00af00; text-decoration-color: #00af00\">1</span>)                │           <span style=\"color: #00af00; text-decoration-color: #00af00\">129</span> │\n",
              "└─────────────────────────────────┴────────────────────────┴───────────────┘\n",
              "</pre>\n"
            ]
          },
          "metadata": {}
        },
        {
          "output_type": "display_data",
          "data": {
            "text/plain": [
              "\u001b[1m Total params: \u001b[0m\u001b[38;5;34m1,313,027\u001b[0m (5.01 MB)\n"
            ],
            "text/html": [
              "<pre style=\"white-space:pre;overflow-x:auto;line-height:normal;font-family:Menlo,'DejaVu Sans Mono',consolas,'Courier New',monospace\"><span style=\"font-weight: bold\"> Total params: </span><span style=\"color: #00af00; text-decoration-color: #00af00\">1,313,027</span> (5.01 MB)\n",
              "</pre>\n"
            ]
          },
          "metadata": {}
        },
        {
          "output_type": "display_data",
          "data": {
            "text/plain": [
              "\u001b[1m Trainable params: \u001b[0m\u001b[38;5;34m1,313,025\u001b[0m (5.01 MB)\n"
            ],
            "text/html": [
              "<pre style=\"white-space:pre;overflow-x:auto;line-height:normal;font-family:Menlo,'DejaVu Sans Mono',consolas,'Courier New',monospace\"><span style=\"font-weight: bold\"> Trainable params: </span><span style=\"color: #00af00; text-decoration-color: #00af00\">1,313,025</span> (5.01 MB)\n",
              "</pre>\n"
            ]
          },
          "metadata": {}
        },
        {
          "output_type": "display_data",
          "data": {
            "text/plain": [
              "\u001b[1m Non-trainable params: \u001b[0m\u001b[38;5;34m0\u001b[0m (0.00 B)\n"
            ],
            "text/html": [
              "<pre style=\"white-space:pre;overflow-x:auto;line-height:normal;font-family:Menlo,'DejaVu Sans Mono',consolas,'Courier New',monospace\"><span style=\"font-weight: bold\"> Non-trainable params: </span><span style=\"color: #00af00; text-decoration-color: #00af00\">0</span> (0.00 B)\n",
              "</pre>\n"
            ]
          },
          "metadata": {}
        },
        {
          "output_type": "display_data",
          "data": {
            "text/plain": [
              "\u001b[1m Optimizer params: \u001b[0m\u001b[38;5;34m2\u001b[0m (12.00 B)\n"
            ],
            "text/html": [
              "<pre style=\"white-space:pre;overflow-x:auto;line-height:normal;font-family:Menlo,'DejaVu Sans Mono',consolas,'Courier New',monospace\"><span style=\"font-weight: bold\"> Optimizer params: </span><span style=\"color: #00af00; text-decoration-color: #00af00\">2</span> (12.00 B)\n",
              "</pre>\n"
            ]
          },
          "metadata": {}
        }
      ]
    },
    {
      "cell_type": "code",
      "source": [
        "model.get_weights()"
      ],
      "metadata": {
        "colab": {
          "base_uri": "https://localhost:8080/"
        },
        "id": "vU1pE7PdPBOI",
        "outputId": "c78dbaad-786a-4ae0-87db-5bd91cf7b88d"
      },
      "execution_count": 6,
      "outputs": [
        {
          "output_type": "execute_result",
          "data": {
            "text/plain": [
              "[array([[ 4.63248998e-01,  2.08744690e-01,  4.07067746e-01, ...,\n",
              "          8.76822397e-02,  8.86436939e-01,  5.87713346e-02],\n",
              "        [ 5.98852150e-02, -5.28956880e-04,  1.24040749e-02, ...,\n",
              "          7.35531002e-02,  1.13634944e-01,  1.37328980e-02],\n",
              "        [ 2.21398585e-02,  7.58409277e-02,  6.83689043e-02, ...,\n",
              "          1.70853391e-01,  8.97347406e-02,  3.18005793e-02],\n",
              "        ...,\n",
              "        [-9.49454028e-03, -7.84170534e-03,  1.93045512e-02, ...,\n",
              "          2.60428395e-02, -3.63132991e-02,  7.25372601e-03],\n",
              "        [-1.20328879e-02,  6.34326637e-02,  9.00824517e-02, ...,\n",
              "          2.45568398e-02, -4.05725539e-02,  2.10208353e-02],\n",
              "        [ 3.09769977e-02, -2.49060318e-02, -8.45944434e-02, ...,\n",
              "         -4.28370982e-02,  8.60311985e-02,  3.99493985e-03]], dtype=float32),\n",
              " array([[ 0.07273887,  0.02138625, -0.05590514, ...,  0.11167788,\n",
              "         -0.11252365,  0.08933266],\n",
              "        [-0.15837948, -0.02928562, -0.10623886, ...,  0.12691784,\n",
              "         -0.0576264 ,  0.11639229],\n",
              "        [-0.01577896, -0.06739946,  0.08289528, ..., -0.02817525,\n",
              "          0.04501988,  0.07235627],\n",
              "        ...,\n",
              "        [-0.08521275,  0.14223818,  0.07500583, ...,  0.03216157,\n",
              "         -0.08184431,  0.13087021],\n",
              "        [-0.118533  , -0.07019723,  0.06494268, ..., -0.05898094,\n",
              "         -0.02731084, -0.07345077],\n",
              "        [ 0.1565904 , -0.02567219,  0.13260424, ...,  0.003178  ,\n",
              "         -0.03730631,  0.04287843]], dtype=float32),\n",
              " array([[ 0.04471558, -0.11157271, -0.08765876, ...,  0.03435961,\n",
              "          0.03189769,  0.04072005],\n",
              "        [-0.152597  ,  0.09366215,  0.0842561 , ...,  0.03350584,\n",
              "          0.01224588,  0.12863185],\n",
              "        [ 0.12119231, -0.11658675, -0.16484971, ..., -0.00185925,\n",
              "          0.12796386,  0.14798191],\n",
              "        ...,\n",
              "        [ 0.02931402, -0.15848735,  0.07019962, ..., -0.21305516,\n",
              "          0.13264185, -0.31633654],\n",
              "        [ 0.05695248, -0.12828703, -0.05983224, ..., -0.02417323,\n",
              "         -0.04282248,  0.00661092],\n",
              "        [ 0.03439225,  0.0089782 , -0.00959729, ...,  0.08971122,\n",
              "         -0.17395617,  0.03034465]], dtype=float32),\n",
              " array([ 0.01038483,  0.02732044, -0.03004789,  0.01401748,  0.00928199,\n",
              "        -0.05952932, -0.0011952 , -0.0189575 ,  0.0114743 , -0.00728056,\n",
              "        -0.02502879, -0.03925246,  0.02363254,  0.00727548,  0.00667233,\n",
              "         0.00015569, -0.01869156,  0.00460745, -0.01983091,  0.01856964,\n",
              "        -0.01925297,  0.02280561, -0.02507436,  0.05432165, -0.02260477,\n",
              "         0.01920759, -0.00939952, -0.03490372,  0.00539096, -0.02380053,\n",
              "         0.00312628,  0.01107137,  0.03631081,  0.02509677,  0.01313034,\n",
              "        -0.03388273,  0.00677981, -0.01394324,  0.03705925, -0.01131344,\n",
              "        -0.04897334, -0.01193327,  0.01464173, -0.00342688, -0.00040129,\n",
              "        -0.03906489, -0.02077323, -0.02911946, -0.01078368, -0.01526349,\n",
              "         0.01750516, -0.04199737,  0.02581741,  0.01562215,  0.01148694,\n",
              "         0.01354658, -0.01174735, -0.01299356, -0.01942731,  0.00011803,\n",
              "         0.01490378, -0.00037882, -0.00716172,  0.0088159 ,  0.02390596,\n",
              "         0.01182448,  0.01346641, -0.01494647, -0.02772379, -0.01520554,\n",
              "        -0.00045513,  0.01910645, -0.00036021,  0.01795606, -0.00715148,\n",
              "        -0.03107943, -0.01484096, -0.00829143, -0.02781702, -0.00031344,\n",
              "        -0.03678276, -0.02781886,  0.02999938,  0.02252558, -0.00788267,\n",
              "         0.02002044, -0.02483698,  0.00567292, -0.01179249, -0.00891079,\n",
              "        -0.01793705, -0.01733832,  0.00849651, -0.01979702,  0.01572539,\n",
              "        -0.04033557, -0.00269111, -0.011891  , -0.02514957,  0.02398613,\n",
              "        -0.01691769,  0.01998199, -0.00261385,  0.00758927, -0.01874115,\n",
              "         0.02755424,  0.00694831,  0.01295324, -0.00133366, -0.0154982 ,\n",
              "         0.00889423,  0.01254604, -0.00694647,  0.02779044,  0.00039291,\n",
              "         0.0341277 , -0.016216  , -0.00393381, -0.00626599, -0.01040808,\n",
              "         0.01635388,  0.00364296, -0.02310226, -0.01819629, -0.02831735,\n",
              "         0.03121771, -0.02247082,  0.00543435], dtype=float32),\n",
              " array([[ 1.85336441e-01],\n",
              "        [ 1.39869705e-01],\n",
              "        [-4.36462276e-03],\n",
              "        [-1.45136550e-01],\n",
              "        [ 1.56362355e-01],\n",
              "        [-1.44363940e-01],\n",
              "        [-1.53093010e-01],\n",
              "        [ 7.95713663e-02],\n",
              "        [-4.28887531e-02],\n",
              "        [-3.95305604e-02],\n",
              "        [-1.19554311e-01],\n",
              "        [ 1.03394249e-02],\n",
              "        [-4.91344295e-02],\n",
              "        [-8.65563005e-02],\n",
              "        [ 3.30475196e-02],\n",
              "        [ 6.11026213e-02],\n",
              "        [-3.73660177e-02],\n",
              "        [ 2.27270693e-01],\n",
              "        [ 2.00001493e-01],\n",
              "        [-1.93215385e-01],\n",
              "        [ 2.06944853e-01],\n",
              "        [ 2.03824844e-02],\n",
              "        [ 4.75774854e-02],\n",
              "        [ 2.76561797e-01],\n",
              "        [-8.53468776e-02],\n",
              "        [-1.57167435e-01],\n",
              "        [-1.24806367e-01],\n",
              "        [-1.85815766e-01],\n",
              "        [ 4.81317230e-02],\n",
              "        [ 9.07969177e-02],\n",
              "        [-1.74606383e-01],\n",
              "        [-1.95191279e-01],\n",
              "        [ 6.55363826e-03],\n",
              "        [-2.56303549e-01],\n",
              "        [ 1.45227686e-01],\n",
              "        [ 3.44134718e-02],\n",
              "        [ 3.96628268e-02],\n",
              "        [-2.26751138e-02],\n",
              "        [ 8.73950049e-02],\n",
              "        [ 1.80438682e-01],\n",
              "        [ 1.02387019e-01],\n",
              "        [ 1.97587572e-02],\n",
              "        [-1.26733107e-03],\n",
              "        [ 1.22032754e-01],\n",
              "        [-2.04056740e-01],\n",
              "        [ 1.89536661e-01],\n",
              "        [ 1.73600152e-01],\n",
              "        [-6.22978806e-03],\n",
              "        [-1.02475695e-01],\n",
              "        [ 1.56754345e-01],\n",
              "        [-6.59020767e-02],\n",
              "        [-1.69624928e-02],\n",
              "        [-3.72658782e-02],\n",
              "        [ 2.45376006e-02],\n",
              "        [ 2.96726990e-02],\n",
              "        [ 2.10670769e-01],\n",
              "        [ 2.01433659e-01],\n",
              "        [-6.31002593e-04],\n",
              "        [-1.40494138e-01],\n",
              "        [ 1.49262071e-01],\n",
              "        [ 9.57244411e-02],\n",
              "        [-1.48601517e-01],\n",
              "        [ 4.83035631e-02],\n",
              "        [-3.61398375e-03],\n",
              "        [-2.55000740e-01],\n",
              "        [-2.04000339e-01],\n",
              "        [ 1.77253231e-01],\n",
              "        [ 1.69784158e-01],\n",
              "        [ 5.24458103e-02],\n",
              "        [ 2.10634604e-01],\n",
              "        [-1.74217299e-01],\n",
              "        [-1.84371814e-01],\n",
              "        [-1.60922170e-01],\n",
              "        [-2.54129738e-01],\n",
              "        [ 2.28733271e-02],\n",
              "        [-1.68918535e-01],\n",
              "        [-3.78417559e-02],\n",
              "        [ 1.56935990e-01],\n",
              "        [-1.12312818e+00],\n",
              "        [ 1.90213352e-01],\n",
              "        [-1.61418080e-01],\n",
              "        [-1.52781546e-01],\n",
              "        [-6.83952030e-03],\n",
              "        [-1.71551764e-01],\n",
              "        [-1.58903226e-01],\n",
              "        [ 8.72243382e-03],\n",
              "        [-7.62641579e-02],\n",
              "        [-2.02269152e-01],\n",
              "        [ 1.64432526e-01],\n",
              "        [-1.84973925e-02],\n",
              "        [ 1.40140921e-01],\n",
              "        [-8.09287488e-01],\n",
              "        [-1.56225011e-01],\n",
              "        [ 3.33390273e-02],\n",
              "        [-4.95949909e-02],\n",
              "        [-1.46369100e-01],\n",
              "        [-1.33495376e-01],\n",
              "        [-2.35280901e-01],\n",
              "        [-5.19287288e-02],\n",
              "        [-1.33829147e-01],\n",
              "        [ 1.81420237e-01],\n",
              "        [-1.86287716e-01],\n",
              "        [ 4.11965162e-01],\n",
              "        [-3.61192599e-02],\n",
              "        [-1.38523728e-01],\n",
              "        [ 1.22189363e-02],\n",
              "        [-3.32635820e-01],\n",
              "        [ 6.94489256e-02],\n",
              "        [-2.08012938e-01],\n",
              "        [ 1.24731451e-01],\n",
              "        [ 5.14493808e-02],\n",
              "        [ 1.26071185e-01],\n",
              "        [ 4.33430821e-01],\n",
              "        [ 2.72426493e-02],\n",
              "        [ 1.89399496e-01],\n",
              "        [-1.87193379e-01],\n",
              "        [ 9.28513184e-02],\n",
              "        [-5.75725913e-01],\n",
              "        [ 1.12562679e-01],\n",
              "        [ 1.81776360e-01],\n",
              "        [-1.12666535e+00],\n",
              "        [ 1.56220824e-01],\n",
              "        [-7.02665821e-02],\n",
              "        [ 2.79764384e-02],\n",
              "        [ 5.59297428e-02],\n",
              "        [-3.83374952e-02],\n",
              "        [ 1.33140400e-01],\n",
              "        [ 5.35224490e-02]], dtype=float32),\n",
              " array([0.37510854], dtype=float32)]"
            ]
          },
          "metadata": {},
          "execution_count": 6
        }
      ]
    },
    {
      "cell_type": "code",
      "source": [
        "# hepler functions\n",
        "# function to decode review\n",
        "def decode_review(encoded_review):\n",
        "    return \" \".join([reverse_word_index.get(i-3,\"?\") for i in encoded_review])\n",
        "# function to preprecess user review\n",
        "def preprocess_text(text):\n",
        "    words = text.lower().split()\n",
        "    encoded_review = [word_index.get(word, 2) + 3 for word in words]\n",
        "    padded_review = sequence.pad_sequences([encoded_review], maxlen=500)\n",
        "    return padded_review"
      ],
      "metadata": {
        "id": "tMew5m_7POLd"
      },
      "execution_count": 12,
      "outputs": []
    },
    {
      "cell_type": "code",
      "source": [
        "# Predictions fucntion\n",
        "\n",
        "def predict_sentiment(review):\n",
        "    preprocessed_input = preprocess_text(review)\n",
        "    prediction = model.predict(preprocessed_input)\n",
        "    sentiment = \"Possitive\" if prediction[0][0] > 0.5 else \"Negative\"\n",
        "    return sentiment, prediction[0][0]"
      ],
      "metadata": {
        "id": "ggPc84M-P-NT"
      },
      "execution_count": 16,
      "outputs": []
    },
    {
      "cell_type": "code",
      "source": [
        "sample_review = \"This movie was absolutely fantastic! The acting was superb, the plot was engaging, and the visuals were stunning. I highly recommend it.\"\n",
        "\n",
        "print(predict_sentiment(sample_review))"
      ],
      "metadata": {
        "colab": {
          "base_uri": "https://localhost:8080/"
        },
        "id": "NduKl9XPQciA",
        "outputId": "b30f26c5-58e4-4984-bcad-a6eea2da341f"
      },
      "execution_count": 17,
      "outputs": [
        {
          "output_type": "stream",
          "name": "stdout",
          "text": [
            "\u001b[1m1/1\u001b[0m \u001b[32m━━━━━━━━━━━━━━━━━━━━\u001b[0m\u001b[37m\u001b[0m \u001b[1m0s\u001b[0m 391ms/step\n",
            "('Possitive', np.float32(0.52183783))\n"
          ]
        }
      ]
    }
  ]
}